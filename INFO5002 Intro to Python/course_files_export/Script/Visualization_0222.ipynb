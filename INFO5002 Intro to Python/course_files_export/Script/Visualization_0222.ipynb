{
 "cells": [
  {
   "cell_type": "markdown",
   "metadata": {},
   "source": [
    "#### Introduction\n",
    "\n",
    "In this notebook we will discuss about matplotlib.\n",
    "\n",
    "\n",
    "Matplotlib is an excellent 2D and 3D graphics library for generating scientific figures. Some of the many advantages of this library include:\n",
    "\n",
    "- Easy to get started\n",
    "- Support for  LATEX  formatted labels and texts\n",
    "- Great control of every element in a figure, including figure size and DPI.\n",
    "- High-quality output in many formats, including PNG, PDF, SVG, EPS, and PGF.\n",
    "- GUI for interactively exploring figures and support for headless generation of figure files (useful for batch jobs).\n",
    "\n",
    "One of the key features of matplotlib that I would like to emphasize, and that I think makes matplotlib highly suitable for generating figures for scientific publications is that all aspects of the figure can be controlled programmatically. This is important for reproducibility and convenient when one needs to regenerate the figure with updated data or change its appearance.\n",
    "\n",
    "pyplot is file in the matplotlib library that contains functions and classes to plot.\n",
    "\n",
    "pyplot is a collection of command style functions that make Matplotlib. Each pyplot function makes some change to a figure.\n",
    "\n",
    "More information at the Matplotlib web page: http://matplotlib.org/\n",
    "\n",
    "\n",
    "To get started using Matplotlib, import the matplotlib.plot module under the name plt"
   ]
  },
  {
   "cell_type": "code",
   "execution_count": null,
   "metadata": {
    "ExecuteTime": {
     "end_time": "2020-10-29T15:08:57.839927Z",
     "start_time": "2020-10-29T15:08:57.829347Z"
    }
   },
   "outputs": [],
   "source": [
    "import numpy as np\n",
    "import pandas as pd\n",
    "import matplotlib\n",
    "import matplotlib.pyplot as plt\n",
    "\n",
    "\"\"\"\n",
    "This command is used to display the plots in this Jupyter notebook. \n",
    "If this is not included, then the plot will be shown in a new window outside the Jupyter notebook.\n",
    "\"\"\"\n",
    "%matplotlib inline\n",
    "\n",
    "# %matplotlib notebook"
   ]
  },
  {
   "cell_type": "markdown",
   "metadata": {},
   "source": [
    "#### Line Chart\n",
    "The line chart is one of the simplest and most widely used data visualization techniques. A line chart displays information as a series of data points or markers connected by straight lines. You can customize the shape, size, color, and other aesthetic elements of the lines and markers for better visual clarity.\n",
    "\n",
    "We can visualize how the yield of apples changes over time using a line chart. To draw a line chart, we can use the plt.plot function."
   ]
  },
  {
   "cell_type": "code",
   "execution_count": null,
   "metadata": {
    "ExecuteTime": {
     "end_time": "2020-10-29T15:09:21.669849Z",
     "start_time": "2020-10-29T15:09:21.261954Z"
    }
   },
   "outputs": [],
   "source": [
    "# Here's some basic code to generating one of the most simple graphs that we can. \n",
    "x = [1, 2, 3, 4]\n",
    "y = [5,6,7,8]\n",
    "#plt.plot(x,y) # supplying list to plot()\n",
    "\n",
    "plt.plot(x,y);\n",
    "#plt.show()"
   ]
  },
  {
   "cell_type": "markdown",
   "metadata": {},
   "source": [
    "Calling the plt.plot function draws the line chart as expected. It also returns a list of plots drawn [<matplotlib.lines.Line2D at 0x7ff2d3f12c10>], shown within the output. We can include a semicolon (;) at the end of the last statement in the cell to avoiding showing the output and display just the graph."
   ]
  },
  {
   "cell_type": "code",
   "execution_count": null,
   "metadata": {},
   "outputs": [],
   "source": [
    "plt.plot(x,y);"
   ]
  },
  {
   "cell_type": "markdown",
   "metadata": {},
   "source": [
    "Let's enhance the plot step-by-step to make it more informative \n",
    "\n",
    "#### Figure titles, Axis labels \n",
    "\n",
    "A title can be added to each axis instance in a figure. To set the title, use the set_title method in the axes instance:\n",
    "We are supposed to labels on each axis and we need a title to our graph and put the grid \n",
    "\n",
    "Similarly, with the methods xlabel and ylabel, we can set the labels of the X and Y axes:"
   ]
  },
  {
   "cell_type": "code",
   "execution_count": null,
   "metadata": {
    "ExecuteTime": {
     "end_time": "2020-10-29T15:12:11.117572Z",
     "start_time": "2020-10-29T15:12:10.621908Z"
    }
   },
   "outputs": [],
   "source": [
    "plt.plot(x,y)\n",
    "plt.title('simple graph')\n",
    "plt.ylabel('Y')\n",
    "plt.xlabel('X')\n",
    "plt.grid(True)"
   ]
  },
  {
   "cell_type": "markdown",
   "metadata": {},
   "source": [
    "#### Figure size, aspect ratio and DPI\n",
    "\n",
    "Matplotlib allows the aspect ratio, DPI and figure size to be specified when the Figure object is created, using the figsize and dpi keyword arguments. figsize is a tuple of the width and height of the figure in inches, and dpi is the dots-per-inch (pixel per inch). To create an 800x400 pixel, 100 dots-per-inch figure, we can do:"
   ]
  },
  {
   "cell_type": "code",
   "execution_count": null,
   "metadata": {},
   "outputs": [],
   "source": [
    "fig = plt.figure(figsize=(8,4), dpi=100)"
   ]
  },
  {
   "cell_type": "code",
   "execution_count": null,
   "metadata": {
    "ExecuteTime": {
     "end_time": "2020-10-29T15:15:22.027584Z",
     "start_time": "2020-10-29T15:15:21.657126Z"
    },
    "scrolled": true
   },
   "outputs": [],
   "source": [
    "# Change the size of the figure using the method figure()\n",
    "plt.figure(figsize=(10,5))\n",
    "plt.plot(x,y);"
   ]
  },
  {
   "cell_type": "markdown",
   "metadata": {},
   "source": [
    "#### Saving figures\n",
    "To save a figure to a file we can use the savefig method in the Figure class:"
   ]
  },
  {
   "cell_type": "code",
   "execution_count": null,
   "metadata": {
    "ExecuteTime": {
     "end_time": "2020-10-29T15:16:08.538782Z",
     "start_time": "2020-10-29T15:16:08.071312Z"
    }
   },
   "outputs": [],
   "source": [
    "# How to save the figure\n",
    "fig = plt.figure()\n",
    "plt.plot(x,y)\n",
    "plt.title(' simple graph')\n",
    "plt.ylabel('Y axis')\n",
    "plt.xlabel('X axis')\n",
    "plt.grid(True)\n",
    "fig.savefig('test.png')\n",
    "#fig.savefig('/Users/pramodgupta/Desktop/test.png')\n",
    "#plt.figure().savefig('my_fig.png')\n"
   ]
  },
  {
   "cell_type": "code",
   "execution_count": null,
   "metadata": {},
   "outputs": [],
   "source": [
    "!ls -lh test.png"
   ]
  },
  {
   "cell_type": "markdown",
   "metadata": {},
   "source": [
    "###### What formats are available and which ones should be used for best quality?\n",
    "Matplotlib can generate high-quality output in a number formats, including PNG, JPG, EPS, SVG, PGF and PDF. For scientific papers, I recommend using PDF whenever possible. (LaTeX documents compiled with pdflatex can include PDFs using the includegraphics command). In some cases, PGF can also be good alternative.\n",
    "\n"
   ]
  },
  {
   "cell_type": "code",
   "execution_count": null,
   "metadata": {
    "ExecuteTime": {
     "end_time": "2020-10-29T15:17:32.697392Z",
     "start_time": "2020-10-29T15:17:32.689337Z"
    }
   },
   "outputs": [],
   "source": [
    "fig.canvas.get_supported_filetypes()"
   ]
  },
  {
   "cell_type": "code",
   "execution_count": null,
   "metadata": {
    "ExecuteTime": {
     "end_time": "2020-10-29T15:18:32.981542Z",
     "start_time": "2020-10-29T15:18:32.610738Z"
    }
   },
   "outputs": [],
   "source": [
    "# Next to change the line width \n",
    "plt.plot(x,y, linewidth = 6)\n",
    "plt.title(' simple graph')\n",
    "plt.ylabel('Y axis')\n",
    "plt.xlabel('X axis')\n",
    "plt.grid(True)\n"
   ]
  },
  {
   "cell_type": "code",
   "execution_count": null,
   "metadata": {
    "ExecuteTime": {
     "end_time": "2020-10-29T15:19:10.508856Z",
     "start_time": "2020-10-29T15:19:10.149606Z"
    }
   },
   "outputs": [],
   "source": [
    "# Change the color \n",
    "#plt.plot(x,y, color = 'g')\n",
    "plt.plot(x,y,'g')\n",
    "plt.title(' simple graph')\n",
    "plt.ylabel('Y axis')\n",
    "plt.xlabel('X axis')\n",
    "plt.grid(True)"
   ]
  },
  {
   "cell_type": "markdown",
   "metadata": {},
   "source": [
    "#### Plotting Multiple Lines "
   ]
  },
  {
   "cell_type": "code",
   "execution_count": null,
   "metadata": {
    "ExecuteTime": {
     "end_time": "2020-10-29T15:24:21.765787Z",
     "start_time": "2020-10-29T15:24:21.376798Z"
    }
   },
   "outputs": [],
   "source": [
    "# plot two sets of data on the same graph\n",
    "x1 = [5,8,10,12]\n",
    "y1 = [12,16,6,10]\n",
    "\n",
    "x2 = [6,9,11, 13]\n",
    "y2 = [6,15,7, 15]\n",
    "\n",
    "# can plot specifically, after just showing the defaults:\n",
    "plt.plot(x1,y1, color = 'b', linewidth = 4)   # blue\n",
    "plt.plot(x2,y2, color = 'k', linewidth = 6)   # black\n",
    "\n",
    "# plt.plot(x1,y1)\n",
    "# plt.plot(x2,y2)\n",
    "\n",
    "\n",
    "# plt.plot(x1,y1,linewidth=5)\n",
    "# plt.plot(x2,y2,linewidth=6)\n",
    "\n",
    "plt.title('simple graph')\n",
    "\n",
    "plt.ylabel('Y axis')\n",
    "plt.xlabel('X axis')\n",
    "plt.grid(True)"
   ]
  },
  {
   "cell_type": "code",
   "execution_count": null,
   "metadata": {
    "ExecuteTime": {
     "end_time": "2020-10-29T15:24:26.210417Z",
     "start_time": "2020-10-29T15:24:25.747257Z"
    }
   },
   "outputs": [],
   "source": [
    "#plt.plot(x1,y1,'g',x2,y2,'r')\n",
    "plt.plot(x1,y1,'g',x2,y2,'r', linewidth = 5)\n",
    "plt.title('Multiple plot')\n",
    "plt.xlabel('X')\n",
    "plt.ylabel('Y')\n",
    "plt.grid(True)"
   ]
  },
  {
   "cell_type": "markdown",
   "metadata": {},
   "source": [
    "#### Legends\n",
    "Now we want to add the legend to show which line represent what? we will see how to add grid also \n",
    "\n",
    "To add the legend use label=\"label text\" keyword argument when plots or other objects are added to the figure, and then using the legend method without arguments to add the legend to the figure.\n",
    "\n",
    "The advantage with this method is that if curves are added or removed from the figure, the legend is automatically updated accordingly.\n",
    "\n",
    "The legend function takes an optional keyword argument loc that can be used to specify where in the figure the legend is to be drawn. The allowed values of loc are numerical codes for the various places the legend can be drawn. See http://matplotlib.org/users/legend_guide.html#legend-location for details. Some of the most common loc values are:\n",
    "\n",
    "plt.legend(loc=0) # let matplotlib decide the optimal location\n",
    "\n",
    "plt.legend(loc=1) # upper right corner\n",
    "\n",
    "plt.legend(loc=2) # upper left corner\n",
    "\n",
    "plt.legend(loc=3) # lower left corner\n",
    "\n",
    "plt.legend(loc=4) # lower right corner\n",
    "\n",
    "many more options are available"
   ]
  },
  {
   "cell_type": "code",
   "execution_count": null,
   "metadata": {
    "ExecuteTime": {
     "end_time": "2020-10-29T15:28:53.397761Z",
     "start_time": "2020-10-29T15:28:52.915105Z"
    }
   },
   "outputs": [],
   "source": [
    "plt.plot(x1,y1,label='Company 1')\n",
    "plt.plot(x2,y2,label='Company 2')\n",
    "\n",
    "plt.title('company wise analysis')\n",
    "plt.ylabel('Revenue')\n",
    "plt.xlabel('X')\n",
    "plt.grid()\n",
    "#plt.legend();\n",
    "#plt.legend(loc = 'upper right');\n",
    "plt.legend(loc = 4)"
   ]
  },
  {
   "cell_type": "code",
   "execution_count": null,
   "metadata": {},
   "outputs": [],
   "source": [
    "plt.plot(x1,y1)\n",
    "plt.plot(x2,y2)\n",
    "\n",
    "plt.title('company wise analysis')\n",
    "plt.ylabel('Revenue')\n",
    "plt.xlabel('X')\n",
    "plt.grid()\n",
    "plt.legend(['Company1','Company2'], loc = 'upper right' );"
   ]
  },
  {
   "cell_type": "markdown",
   "metadata": {},
   "source": [
    "#### Line Markers\n",
    "We can also show markers for the data points on each line using the marker argument of plt.plot. Matplotlib provides many different markers, like a circle, cross, square, diamond, etc. You can find the full list of marker types here: https://matplotlib.org/3.1.1/api/markers_api.html ."
   ]
  },
  {
   "cell_type": "code",
   "execution_count": null,
   "metadata": {},
   "outputs": [],
   "source": [
    "plt.plot([1, 2, 3, 4], [1, 4, 9, 16],marker =  \"x\")\n",
    "#plt.plot([1, 2, 3, 4], [1, 4, 9, 16],\"x\")\n",
    "plt.grid(True)\n"
   ]
  },
  {
   "cell_type": "code",
   "execution_count": null,
   "metadata": {
    "ExecuteTime": {
     "end_time": "2020-10-29T15:30:00.052332Z",
     "start_time": "2020-10-29T15:29:59.610065Z"
    }
   },
   "outputs": [],
   "source": [
    "\"\"\"\n",
    "In \"ro\", \"r\" stands for red and \"o\" stands for circles.\n",
    "\n",
    "\"\"\"\n",
    "plt.plot([1, 2, 3, 4], [1, 4, 9, 16],\"ro\")\n",
    "plt.plot([1, 2, 3, 4], [1, 4, 9, 16])\n",
    "plt.grid(True)\n",
    "\n"
   ]
  },
  {
   "cell_type": "markdown",
   "metadata": {},
   "source": [
    "#### Styling Lines and Markers\n",
    "The plt.plot function supports many arguments for styling lines and markers:\n",
    "\n",
    "- color or c: Set the color of the line (supported colors)\n",
    "- linestyle or ls: Choose between a solid or dashed line\n",
    "- linewidth or lw: Set the width of a line\n",
    "- markersize or ms: Set the size of markers\n",
    "- markeredgecolor or mec: Set the edge color for markers\n",
    "- markeredgewidth or mew: Set the edge width for markers\n",
    "- markerfacecolor or mfc: Set the fill color for markers\n",
    "- alpha: Opacity of the plot\n",
    "\n",
    "Check out the documentation for plt.plot to learn more: https://matplotlib.org/api/_as_gen/matplotlib.pyplot.plot.html#matplotlib.pyplot.plot ."
   ]
  },
  {
   "cell_type": "code",
   "execution_count": null,
   "metadata": {
    "ExecuteTime": {
     "end_time": "2020-10-29T15:31:07.696404Z",
     "start_time": "2020-10-29T15:31:07.203396Z"
    }
   },
   "outputs": [],
   "source": [
    "\"\"\"\n",
    "Here we are plotting three graphs in the same area.\n",
    "In this example, we are generating a graph that has lines connecting the points as well as dots \n",
    "at each point.\n",
    "\n",
    "The fmt argument provides a shorthand for specifying the marker shape, line style, and line color. It can be provided as the third argument to plt.plot.\n",
    "\n",
    "fmt = '[marker][line][color]'\n",
    "\n",
    "In the plot() the first three values will be used for the first graph. t, t, \"r--\" means, \n",
    "both x and y values are t, and \"r\" in \"r--\" means red and \"--\" means the line is dotted. \n",
    "Note that this graph will be linear. \n",
    "\n",
    "The next three values in plot() will be used for the second graph. x takes values from t, \n",
    "while y takes values from t**2, \n",
    "\"b\" in \"bs\" means blue and \"s\" stands for square.\n",
    "\n",
    "The last three values in the plot() will be used for the third graph. x takes values from t,\n",
    "while y takes values from t**3, \n",
    "\"g\" in \"g^\" is for green and \"^\" for triangle. \n",
    "\n",
    "\n",
    "\"\"\"\n",
    "t  = np.arange(0, 4.1, 0.2)\n",
    "# red dashes, blue squares and green triangles\n",
    "plt.plot(t, t, \"r--\", label='x')\n",
    "plt.plot(t, t**2, \"bs\", label='x^2')\n",
    "plt.plot(t, t**3, \"g^\",label='x^3')\n",
    "plt.grid(True)\n",
    "plt.legend();\n"
   ]
  },
  {
   "cell_type": "code",
   "execution_count": null,
   "metadata": {},
   "outputs": [],
   "source": [
    "#plt.plot(t, t, ls='--' )\n",
    "plt.plot(t,t**2,marker='s', c='b', ls='--', lw=3, mec = 'r', ms=10,alpha=0.8)\n"
   ]
  },
  {
   "cell_type": "markdown",
   "metadata": {},
   "source": [
    "#### Formatting text: LaTeX, fontsize, font family\n",
    "\n",
    "The figure above is functional, but it does not (yet) satisfy the criteria for a figure used in a publication. First and foremost, we need to have LaTeX formatted text, and second, we need to be able to adjust the font size to appear right in a publication.\n",
    "\n",
    "Matplotlib has great support for LaTeX. All we need to do is to use dollar signs encapsulate LaTeX in any text (legend, title, label, etc.). For example, \"$y=x^3$\".\n",
    "\n",
    "But here we can run into a slightly subtle problem with LaTeX code and Python text strings. In LaTeX, we frequently use the backslash in commands, for example \\alpha to produce the symbol  α . But the backslash already has a meaning in Python strings (the escape code character). To avoid Python messing up our latex code, we need to use \"raw\" text strings. Raw text strings are prepended with an 'r', like r\"\\alpha\" or r'\\alpha' instead of \"\\alpha\" or '\\alpha':"
   ]
  },
  {
   "cell_type": "code",
   "execution_count": null,
   "metadata": {},
   "outputs": [],
   "source": [
    "t  = np.arange(0, 4.1, 0.2)\n",
    "# red dashes, blue squares and green triangles\n",
    "plt.plot(t, t, \"r--\", label=r\"$y = \\alpha$\")\n",
    "plt.plot(t, t**2, \"bs\", label=r\"$y = \\alpha^2$\")\n",
    "plt.plot(t, t**3, \"g^\",label=r\"$y = \\alpha^3$\")\n",
    "#plt.xlabel(r'$\\alpha$', fontsize=18)\n",
    "plt.xlabel('alpha', fontsize=18)\n",
    "plt.ylabel(r'$y$', fontsize=18)\n",
    "plt.title('Mutliple Line Graph');\n",
    "plt.grid(True)\n",
    "plt.legend(loc =2);"
   ]
  },
  {
   "cell_type": "markdown",
   "metadata": {},
   "source": [
    "We can also change the global font size and font family, which applies to all text elements in a figure (tick labels, axis labels and titles, legends, etc.):\n",
    "\n",
    "You can also edit default styles directly by modifying the matplotlib.rcParams dictionary. Learn more: https://matplotlib.org/3.2.1/tutorials/introductory/customizing.html#matplotlib-rcparams ."
   ]
  },
  {
   "cell_type": "code",
   "execution_count": null,
   "metadata": {},
   "outputs": [],
   "source": [
    "# Update the matplotlib configuration parameters:\n",
    "#matplotlib.rcParams.update({'font.size': 18, 'font.family': 'serif'})\n",
    "\n",
    "matplotlib.rcParams['font.size'] = 14\n",
    "matplotlib.rcParams['figure.figsize'] = (9, 5)\n",
    "matplotlib.rcParams['figure.facecolor'] = '#00000000'"
   ]
  },
  {
   "cell_type": "code",
   "execution_count": null,
   "metadata": {},
   "outputs": [],
   "source": [
    "t  = np.arange(0, 4.1, 0.2)\n",
    "# red dashes, blue squares and green triangles\n",
    "plt.plot(t, t, \"r--\", label=r\"$y = \\alpha$\")\n",
    "plt.plot(t, t**2, \"bs\", label=r\"$y = \\alpha^2$\")\n",
    "plt.plot(t, t**3, \"g^\",label=r\"$y = \\alpha^3$\")\n",
    "plt.xlabel(r'$\\alpha$', fontsize=18)\n",
    "plt.ylabel(r'$y$', fontsize=18)\n",
    "plt.title('Mutliple Line Graph');\n",
    "plt.grid(True)\n",
    "plt.legend(loc =2);"
   ]
  },
  {
   "cell_type": "markdown",
   "metadata": {},
   "source": [
    "Or, alternatively, we can request that matplotlib uses LaTeX to render the text elements in the figure:\n",
    "\n"
   ]
  },
  {
   "cell_type": "code",
   "execution_count": null,
   "metadata": {},
   "outputs": [],
   "source": [
    "t  = np.arange(0, 4.1, 0.2)\n",
    "# red dashes, blue squares and green triangles\n",
    "plt.plot(t, t, \"r--\", label=r\"$y = \\alpha$\")\n",
    "plt.plot(t, t**2, \"bs\", label=r\"$y = \\alpha^2$\")\n",
    "plt.plot(t, t**3, \"g^\",label=r\"$y = \\alpha^3$\")\n",
    "plt.xlabel(r'$\\alpha$', fontsize=18)\n",
    "plt.ylabel(r'$y$', fontsize=18)\n",
    "plt.title('Mutliple Line Graph');\n",
    "plt.grid(True)\n",
    "plt.legend(loc =2)"
   ]
  },
  {
   "cell_type": "code",
   "execution_count": null,
   "metadata": {},
   "outputs": [],
   "source": [
    "# restore\n",
    "matplotlib.rcParams.update({'font.size': 12, 'font.family': 'sans', 'text.usetex': False})"
   ]
  },
  {
   "cell_type": "code",
   "execution_count": null,
   "metadata": {
    "ExecuteTime": {
     "end_time": "2020-10-29T15:32:01.364728Z",
     "start_time": "2020-10-29T15:32:00.825698Z"
    }
   },
   "outputs": [],
   "source": [
    "\n",
    "y = [1, 4, 9, 16, 25,36,49, 64]\n",
    "x1 = [1, 16, 30, 42,55, 68, 77,88]\n",
    "x2 = [1,6,12,18,28, 40, 52, 65]\n",
    "fig = plt.figure()\n",
    "plt.plot(x1,y,'ys-') # solid line with yellow colour and square marker\n",
    "plt.plot(x2,y,'go--') # dash line with green colour and circle marker\n",
    "plt.legend(labels = ('tv', 'Smartphone'), loc = 'lower right') # legend placed at lower right\n",
    "plt.title(\"Advertisement effect on sales\")\n",
    "plt.xlabel('medium')\n",
    "plt.ylabel('sales')\n",
    "plt.grid(True)"
   ]
  },
  {
   "cell_type": "markdown",
   "metadata": {},
   "source": [
    "#### Setting limits\n",
    "Matplotlib automatically arrives at the minimum and maximum values of variables to be displayed along x, y axes of a plot. However, it is possible to set the limits explicitly by using xlim() and ylim() functions."
   ]
  },
  {
   "cell_type": "code",
   "execution_count": null,
   "metadata": {
    "ExecuteTime": {
     "end_time": "2020-10-29T15:33:18.272691Z",
     "start_time": "2020-10-29T15:33:17.839456Z"
    }
   },
   "outputs": [],
   "source": [
    "x = np.arange(1,10)\n",
    "plt.plot(x,np.exp(x),'r')\n",
    "plt.grid()\n",
    "plt.title('Exponential function graph')\n",
    "plt.xlabel('x')\n",
    "plt.ylabel('exponential of x')"
   ]
  },
  {
   "cell_type": "code",
   "execution_count": null,
   "metadata": {
    "ExecuteTime": {
     "end_time": "2020-10-29T15:37:54.516172Z",
     "start_time": "2020-10-29T15:37:54.163892Z"
    }
   },
   "outputs": [],
   "source": [
    "x = np.arange(1,10)\n",
    "plt.plot(x,np.exp(x),'k')\n",
    "plt.title('exp(x)')\n",
    "plt.ylim(0,8000)\n",
    "plt.xlim(0,9)\n",
    "#plt.axis([0, 9, 0, 8000])\n",
    "plt.grid(color='r', ls = '-.', lw = 0.5)"
   ]
  },
  {
   "cell_type": "markdown",
   "metadata": {},
   "source": [
    "#### Setting Ticks\n",
    "We can explicitly determine where we want the axis ticks with set_xticks and set_yticks, which both take a list of values for where on the axis the ticks are to be placed. We can also use the set_xticklabels and set_yticklabels methods to provide a list of custom text labels for each tick location:"
   ]
  },
  {
   "cell_type": "code",
   "execution_count": null,
   "metadata": {
    "ExecuteTime": {
     "end_time": "2020-10-29T15:41:37.162240Z",
     "start_time": "2020-10-29T15:41:36.774913Z"
    }
   },
   "outputs": [],
   "source": [
    "x = np.arange(1,10)\n",
    "plt.plot(x,np.exp(x),'g')\n",
    "plt.title('exp(x)')\n",
    "plt.ylim(0,10000)\n",
    "plt.xlim(0,10)\n",
    "x_tix = np.arange(0,11,2)\n",
    "plt.xticks(x_tix)\n",
    "y_tix = np.arange(0,11000, 1000)\n",
    "plt.yticks(y_tix)\n",
    "plt.grid()"
   ]
  },
  {
   "cell_type": "markdown",
   "metadata": {},
   "source": [
    "There are a number of more advanced methods for controlling major and minor tick placement in matplotlib figures, such as automatic placement according to different policies. See http://matplotlib.org/api/ticker_api.html for details.\n",
    "\n"
   ]
  },
  {
   "cell_type": "markdown",
   "metadata": {},
   "source": [
    "#### Twin axes\n",
    "Sometimes it is useful to have dual x or y axes in a figure; for example, when plotting curves with different units together. Matplotlib supports this with the twinx and twiny functions:"
   ]
  },
  {
   "cell_type": "code",
   "execution_count": null,
   "metadata": {},
   "outputs": [],
   "source": [
    "fig, ax1 = plt.subplots()\n",
    "x = np.linspace(1,10,100)\n",
    "ax1.plot(x, x**2, lw=2, color=\"blue\")\n",
    "ax1.set_ylabel(r\"area $(m^2)$\", fontsize=18, color=\"blue\")\n",
    "for label in ax1.get_yticklabels():\n",
    "    label.set_color(\"blue\")\n",
    "ax1.grid(True) \n",
    "ax2 = ax1.twinx()\n",
    "ax2.plot(x, x**3, lw=2, color=\"red\")\n",
    "ax2.set_ylabel(r\"volume $(m^3)$\", fontsize=18, color=\"red\")\n",
    "\n",
    "for label in ax2.get_yticklabels():\n",
    "    label.set_color(\"red\")\n",
    "ax2.grid(True)"
   ]
  },
  {
   "cell_type": "markdown",
   "metadata": {},
   "source": [
    "#### Text annotation\n",
    "Annotating text in matplotlib figures can be done using the text function. It supports LaTeX formatting just like axis label texts and titles:"
   ]
  },
  {
   "cell_type": "code",
   "execution_count": null,
   "metadata": {},
   "outputs": [],
   "source": [
    "fig, ax = plt.subplots()\n",
    "\n",
    "ax.plot(x, x**2, x, x)\n",
    "\n",
    "ax.text(7, 80, r\"$y=x^2$\", fontsize=20, color=\"blue\")\n",
    "ax.text(5, 6, r\"$y=x$\", fontsize=20, color=\"green\");"
   ]
  },
  {
   "cell_type": "code",
   "execution_count": null,
   "metadata": {},
   "outputs": [],
   "source": [
    "\"\"\"\n",
    "Here we are considering an example to include annotation to a plot.\n",
    "\n",
    "t and s are input and output values respectively.\n",
    "\n",
    "Are assiging the plot to the variable called line.\n",
    "\n",
    "We use annotate() and supply the text that should be added inside the plot. In this case, \n",
    "the annotated text is \"local max\". \n",
    "xy = (2,1) specifies the location of the arrow, \n",
    "xytext=(3, 1.5) specifies the location of the text. \n",
    "A dictionary with one key-value pairs is assigned to arrowprops. \n",
    "facecolor is for the color of the arrow. \n",
    "\n",
    "in ylim we specify the height of the plot.\n",
    "\n",
    "\"\"\"\n",
    "t = np.arange(0.0, 5.0, 0.01)\n",
    "s = np.cos(2*np.pi*t)\n",
    "plt.plot(t, s, \"r\")\n",
    "\n",
    "plt.annotate(\"local minima\", xy = (1.5, -1), xytext=(3, -1.5), arrowprops = dict(facecolor=\"black\"))\n",
    "#plt.annotate(\"local maxima\", xy = (1, 1), xytext=(3, 1.5), arrowprops = dict(facecolor=\"black\"))\n",
    "plt.ylim(-2, 2)\n",
    "plt.grid()"
   ]
  },
  {
   "cell_type": "markdown",
   "metadata": {},
   "source": [
    "#### Improving Default Styles using Seaborn\n",
    "An easy way to make your charts look beautiful is to use some default styles from the Seaborn library. These can be applied globally using the sns.set_style function. You can see a full list of predefined styles here: https://seaborn.pydata.org/generated/seaborn.set_style.html .\n",
    "\n"
   ]
  },
  {
   "cell_type": "code",
   "execution_count": null,
   "metadata": {},
   "outputs": [],
   "source": [
    "import seaborn as sns\n"
   ]
  },
  {
   "cell_type": "code",
   "execution_count": null,
   "metadata": {},
   "outputs": [],
   "source": [
    "#sns.set_style(\"darkgrid\")\n",
    "sns.set_style(\"whitegrid\")"
   ]
  },
  {
   "cell_type": "code",
   "execution_count": null,
   "metadata": {},
   "outputs": [],
   "source": [
    "x = np.arange(1,10)\n",
    "plt.plot(x,np.exp(x),'g')\n",
    "plt.title('exp(x)')"
   ]
  },
  {
   "cell_type": "markdown",
   "metadata": {},
   "source": [
    "#### Multi plot\n"
   ]
  },
  {
   "cell_type": "code",
   "execution_count": null,
   "metadata": {},
   "outputs": [],
   "source": [
    "\"\"\" \n",
    "We are defining subplots. \n",
    "Subplots are used to show two or more plots in a single image. \n",
    "\"\"\"\n",
    "\n",
    "t1 = np.arange(0.0, 5.0, 0.1)\n",
    "t2 = np.arange(0.0, 5.0, 0.02)\n",
    "\n",
    "fig, axes = plt.subplots(nrows=1, ncols=2)\n",
    "\n",
    "axes[1].plot(t1, np.exp(-t1), \"bo\")\n",
    "axes[1].set_xlabel('t1')\n",
    "axes[1].set_ylabel('exp(-t1)')\n",
    "axes[1].set_title('exp(-t1)')\n",
    "\n",
    "axes[0].plot(t2, np.exp(-t2), \"r--\")\n",
    "axes[0].set_xlabel('t2')\n",
    "axes[0].set_ylabel('exp(-t2)')\n",
    "axes[0].set_title('exp(-t2)')\n",
    "\n",
    "fig.tight_layout()"
   ]
  },
  {
   "cell_type": "markdown",
   "metadata": {},
   "source": [
    "That was easy, but it isn't so pretty with overlapping figure axes and labels, right?\n",
    "\n",
    "We can deal with that by using the fig.tight_layout method, which automatically adjusts the positions of the axes on the figure canvas so that there is no overlapping content:"
   ]
  },
  {
   "cell_type": "code",
   "execution_count": null,
   "metadata": {
    "ExecuteTime": {
     "end_time": "2020-10-29T15:44:52.196894Z",
     "start_time": "2020-10-29T15:44:51.659095Z"
    }
   },
   "outputs": [],
   "source": [
    "t1 = np.arange(0.0, 5.0, 0.1)\n",
    "t2 = np.arange(0.0, 5.0, 0.02)\n",
    "\n",
    "\n",
    "\"\"\"\n",
    "211 in subplot() means 2 plots, and 1 is for the location of the plot. \n",
    "since we want to plot two graphs, have to specify the location for each plot.\n",
    "\n",
    "\"\"\"\n",
    "\n",
    "\"\"\"\n",
    "The input for the first plot is t1 for x-values, f(t1) for y-values and \"bo\" ensures that the \n",
    "points are blue circles. \n",
    "\"\"\"\n",
    "\n",
    "plt.subplot(211)\n",
    "plt.plot(t1, np.exp(-t1), \"bo\")\n",
    "\"\"\"\n",
    "The number 212 in subplot if for the second plot. 2 represents the position of the second plot.\n",
    "\n",
    "The x-values of the plot are t2, the y-values are cosine of t2 with slight variation. \"r--\" \n",
    "guarantees red dashes. \n",
    "\n",
    "\"\"\"\n",
    "plt.subplot(212)\n",
    "plt.plot(t2, np.cos(2*np.pi*t2), \"r--\")\n",
    "plt.tight_layout()"
   ]
  },
  {
   "cell_type": "code",
   "execution_count": null,
   "metadata": {},
   "outputs": [],
   "source": [
    "\"\"\" \n",
    "\n",
    "We are defining subplots. Subplots are used to show two or more plots in a single image. \n",
    "\"\"\"\n",
    "\n",
    "t1 = np.arange(0.0, 5.0, 0.1)\n",
    "t2 = np.arange(0.0, 5.0, 0.02)\n",
    "\n",
    "\n",
    "\"\"\"\n",
    "211 in subplot() means 2 plots, and 1 is for the location of the plot. \n",
    "since we want to plot two graphs, have to specify the location for each plot.\n",
    "\n",
    "\"\"\"\n",
    "#plt.subplot(121)\n",
    "\n",
    "\"\"\"\n",
    "The input for the first plot is t1 for x-values, f(t1) for y-values and \"bo\" ensures that the \n",
    "points are blue circles. \n",
    "\"\"\"\n",
    "\n",
    "#plt.plot(t1, np.exp(-t1), \"bo\")\n",
    "\n",
    "plt.subplot(221)\n",
    "plt.plot(t1, np.exp(-t1), \"bo\")\n",
    "\"\"\"\n",
    "The number 212 in subplot if for the second plot. 2 represents the position of the second plot.\n",
    "\n",
    "The x-values of the plot are t2, the y-values are cosine of t2 with slight variation. \"r--\" \n",
    "guarantees red dashes. \n",
    "\n",
    "\"\"\"\n",
    "plt.subplot(222)\n",
    "plt.plot(t1, np.exp(-t1), \"ro\")\n",
    "\n",
    "\n",
    "plt.subplot(223)\n",
    "plt.plot(t1, np.exp(-t1), \"go\")\n",
    "\n",
    "plt.subplot(224)\n",
    "plt.plot(t2, np.cos(2*np.pi*t2), \"r--\")\n",
    "plt.tight_layout()"
   ]
  },
  {
   "cell_type": "markdown",
   "metadata": {},
   "source": [
    "#### Logarithmic scale\n",
    "\n",
    "It is also possible to set a logarithmic scale for one or both axes. This functionality is in fact only one application of a more general transformation system in Matplotlib. Each of the axes' scales are set separately using set_xscale and set_yscale methods which accept one parameter (with the value \"log\" in this case):"
   ]
  },
  {
   "cell_type": "code",
   "execution_count": null,
   "metadata": {},
   "outputs": [],
   "source": [
    "fig, axes = plt.subplots(1, 2, figsize=(10,4))\n",
    "x = np.linspace(0, 5, 10)      \n",
    "\n",
    "axes[0].plot(x, x**2, x, np.exp(x))\n",
    "axes[0].set_title(\"Normal scale\")\n",
    "\n",
    "axes[1].plot(x, x**2, x, np.exp(x))\n",
    "axes[1].set_yscale(\"log\")\n",
    "axes[1].set_title(\"Logarithmic scale (y)\");"
   ]
  },
  {
   "cell_type": "code",
   "execution_count": null,
   "metadata": {
    "ExecuteTime": {
     "end_time": "2020-10-29T15:52:28.338253Z",
     "start_time": "2020-10-29T15:52:27.565735Z"
    }
   },
   "outputs": [],
   "source": [
    "\"\"\" \n",
    "\n",
    "We are defining subplots. Subplots are used to show two or more plots in a single image. \n",
    "\"\"\"\n",
    "\n",
    "t1 = np.arange(0.0, 5.0, 0.1)\n",
    "t2 = np.arange(0.0, 5.0, 0.02)\n",
    "\n",
    "\n",
    "\"\"\"\n",
    "211 in subplot() means 2 plots, and 1 is for the location of the plot. \n",
    "since we want to plot two graphs, have to specify the location for each plot.\n",
    "\n",
    "\"\"\"\n",
    "#plt.subplot(121)\n",
    "\n",
    "\"\"\"\n",
    "The input for the first plot is t1 for x-values, f(t1) for y-values and \"bo\" ensures that the \n",
    "points are blue circles. \n",
    "\"\"\"\n",
    "\n",
    "#plt.plot(t1, np.exp(-t1), \"bo\")\n",
    "\n",
    "plt.subplot(211)\n",
    "plt.plot(t1, np.exp(-t1), \"bo\")\n",
    "\"\"\"\n",
    "The number 212 in subplot if for the second plot. 2 represents the position of the second plot.\n",
    "\n",
    "The x-values of the plot are t2, the y-values are cosine of t2 with slight variation. \"r--\" \n",
    "guarantees red dashes. \n",
    "\n",
    "\"\"\"\n",
    "plt.subplot(212)\n",
    "plt.plot(t2, np.cos(2*np.pi*t2), \"r--\")\n",
    "\n",
    "plt.tight_layout()"
   ]
  },
  {
   "cell_type": "code",
   "execution_count": null,
   "metadata": {},
   "outputs": [],
   "source": [
    "\"\"\"\n",
    "Practice Question\n",
    "\n",
    "Two plots stacked horizontally. \n",
    "\"\"\"\n"
   ]
  },
  {
   "cell_type": "code",
   "execution_count": null,
   "metadata": {},
   "outputs": [],
   "source": [
    "fig,ax = plt.subplots(2,2)\n",
    "fig.tight_layout() # Or equivalently,  \"plt.tight_layout()\"\n",
    "#fig, ax = plt.subplots(2,2, constrained_layout=True)\n",
    "\n",
    "ax[0,0].plot(t1, np.exp(-t1), \"bo\" )\n",
    "ax[0,0].set_title('First plot ')\n",
    "\n",
    "ax[0,1].plot(t2, np.cos(2*np.pi*t2), \"r--\")\n",
    "ax[0, 1].set_title('Second plot')\n",
    "\n",
    "ax[1,0].plot(t2, np.cos(2*np.pi*t2), \"g--\")\n",
    "ax[1, 0].set_title('Third plot')\n",
    "\n",
    "ax[1,1].plot(t2, np.cos(2*np.pi*t2), \"k--\")\n",
    "ax[1, 1].set_title('Fourth plot');"
   ]
  },
  {
   "cell_type": "code",
   "execution_count": null,
   "metadata": {},
   "outputs": [],
   "source": [
    "np.random.seed(145)\n",
    "np.random.randn(10)"
   ]
  },
  {
   "cell_type": "markdown",
   "metadata": {},
   "source": [
    "#### Histogram\n",
    "A histogram represents the distribution of a variable by creating bins (interval) along the range of values and showing vertical bars to indicate the number of observations in each bin.\n",
    "\n",
    "For example, let's visualize the distribution of values of sepal width in the flowers dataset. We can use the plt.hist function to create a histogram."
   ]
  },
  {
   "cell_type": "code",
   "execution_count": null,
   "metadata": {
    "ExecuteTime": {
     "end_time": "2020-10-29T15:53:28.413020Z",
     "start_time": "2020-10-29T15:53:27.919112Z"
    },
    "scrolled": true
   },
   "outputs": [],
   "source": [
    "np.random.seed(145)\n",
    "x = np.random.randn(100000)\n",
    "# the histogram of the data\n",
    "#plt.hist(x)\n",
    "plt.hist(x, bins = 20)\n",
    "plt.xlabel(\"x\")\n",
    "plt.ylabel(\"Frequency\")\n",
    "plt.title(\"Histogram\")\n",
    "x_tix = np.arange(-3,3)\n",
    "plt.xticks(x_tix)\n",
    "y_tix = np.arange(0,15000, 1000)\n",
    "plt.yticks(y_tix)\n",
    "plt.grid(True)"
   ]
  },
  {
   "cell_type": "markdown",
   "metadata": {},
   "source": [
    "#### Multiple Histograms\n",
    "Similar to line charts, we can draw multiple histograms in a single chart. We can reduce each histogram's opacity so that one histogram's bars don't hide the others'. We will use iris data set which comes with seaborn \n",
    "\n",
    "Let's draw separate histograms for each species of flowers. "
   ]
  },
  {
   "cell_type": "code",
   "execution_count": null,
   "metadata": {},
   "outputs": [],
   "source": [
    "# Load data into a Pandas dataframe\n",
    "import seaborn as sns\n",
    "df = sns.load_dataset(\"iris\")\n",
    "df.head()"
   ]
  },
  {
   "cell_type": "code",
   "execution_count": null,
   "metadata": {},
   "outputs": [],
   "source": [
    "plt.title(\"Distribution of Sepal Width\")\n",
    "plt.hist(df.sepal_width);"
   ]
  },
  {
   "cell_type": "markdown",
   "metadata": {},
   "source": [
    "We can immediately see that the sepal widths lie in the range 2.0 - 4.5, and around 35 values are in the range 2.9 - 3.1, which seems to be the most populous bin."
   ]
  },
  {
   "cell_type": "markdown",
   "metadata": {},
   "source": [
    "#### Controlling the size and number of bins\n",
    "We can control the number of bins or the size of each one using the bins argument."
   ]
  },
  {
   "cell_type": "code",
   "execution_count": null,
   "metadata": {},
   "outputs": [],
   "source": [
    "# Specifying the number of bins\n",
    "plt.hist(df.sepal_width, bins=5);"
   ]
  },
  {
   "cell_type": "code",
   "execution_count": null,
   "metadata": {},
   "outputs": [],
   "source": [
    "# Specifying the boundaries of each bin\n",
    "plt.hist(df.sepal_width, bins=np.arange(2, 5, 0.25));"
   ]
  },
  {
   "cell_type": "markdown",
   "metadata": {},
   "source": [
    "#### Multiple Histograms\n",
    "Similar to line charts, we can draw multiple histograms in a single chart. We can reduce each histogram's opacity so that one histogram's bars don't hide the others'.\n",
    "\n",
    "Let's draw separate histograms for each species of flowers."
   ]
  },
  {
   "cell_type": "code",
   "execution_count": null,
   "metadata": {},
   "outputs": [],
   "source": [
    "setosa_df = df[df.species == 'setosa']\n",
    "versicolor_df = df[df.species == 'versicolor']\n",
    "virginica_df = df[df.species == 'virginica']"
   ]
  },
  {
   "cell_type": "code",
   "execution_count": null,
   "metadata": {},
   "outputs": [],
   "source": [
    "plt.hist(setosa_df.sepal_width, alpha=0.4, bins=np.arange(2, 5, 0.25));\n",
    "plt.hist(versicolor_df.sepal_width, alpha=0.4, bins=np.arange(2, 5, 0.25));"
   ]
  },
  {
   "cell_type": "markdown",
   "metadata": {},
   "source": [
    "We can also stack multiple histograms on top of one another."
   ]
  },
  {
   "cell_type": "code",
   "execution_count": null,
   "metadata": {},
   "outputs": [],
   "source": [
    "plt.title('Distribution of Sepal Width')\n",
    "\n",
    "plt.hist([setosa_df.sepal_width, versicolor_df.sepal_width, virginica_df.sepal_width],  \n",
    "         stacked=True);\n",
    "\n",
    "plt.legend(['Setosa', 'Versicolor', 'Virginica']);"
   ]
  },
  {
   "cell_type": "code",
   "execution_count": null,
   "metadata": {},
   "outputs": [],
   "source": [
    "\"\"\"\n",
    "Practice Question\n",
    "Create an array of 10000 elements drawn from a uniform distribution \n",
    "between 0 and 10. Then plot an histogram with 10 bins. Then save the figure as hist_uni.png\n",
    "\"\"\"\n"
   ]
  },
  {
   "cell_type": "markdown",
   "metadata": {},
   "source": [
    "#### Bar chart\n",
    "Bar charts are quite similar to line charts, i.e., they show a sequence of values. We can use the plt.bar function to draw a bar chart."
   ]
  },
  {
   "cell_type": "code",
   "execution_count": null,
   "metadata": {
    "ExecuteTime": {
     "end_time": "2020-10-29T16:11:34.709062Z",
     "start_time": "2020-10-29T16:11:34.389669Z"
    }
   },
   "outputs": [],
   "source": [
    "course = ['C1', 'C2', 'C3', 'C4', 'C5']\n",
    "students = [23,17,35,29,12]\n",
    "plt.bar(course,students, color = 'g')\n",
    "plt.title('Bar Graph')\n",
    "plt.xlabel('Class')\n",
    "plt.ylabel('Students')\n",
    "plt.grid()"
   ]
  },
  {
   "cell_type": "code",
   "execution_count": null,
   "metadata": {},
   "outputs": [],
   "source": [
    "course = ['C1', 'C2', 'C3', 'C4', 'C5']\n",
    "students = [23,17,35,29,12]\n",
    "plt.bar(course,students, color=['black', 'red', 'green', 'blue', 'cyan'])\n",
    "plt.title('Bar Graph')\n",
    "plt.xlabel('Class')\n",
    "plt.ylabel('Students')\n",
    "plt.grid()"
   ]
  },
  {
   "cell_type": "code",
   "execution_count": null,
   "metadata": {
    "ExecuteTime": {
     "end_time": "2020-10-29T16:12:13.611179Z",
     "start_time": "2020-10-29T16:12:13.200619Z"
    }
   },
   "outputs": [],
   "source": [
    "plt.barh(course,students, color = 'r')\n",
    "plt.title('Horizontal Bar Graph')\n",
    "plt.xlabel('Class')\n",
    "plt.ylabel('Students')\n",
    "plt.grid()"
   ]
  },
  {
   "cell_type": "code",
   "execution_count": null,
   "metadata": {
    "ExecuteTime": {
     "end_time": "2020-10-29T16:12:42.078161Z",
     "start_time": "2020-10-29T16:12:41.904731Z"
    }
   },
   "outputs": [],
   "source": [
    "# If the data being plotted consists of multiple columns\n",
    "df = pd.DataFrame(np.random.rand(10,4), columns = ['a','b','c','d'])\n",
    "df"
   ]
  },
  {
   "cell_type": "code",
   "execution_count": null,
   "metadata": {
    "ExecuteTime": {
     "end_time": "2020-10-29T16:13:05.670741Z",
     "start_time": "2020-10-29T16:13:04.997422Z"
    }
   },
   "outputs": [],
   "source": [
    "df.plot(kind = 'bar')\n",
    "#plt.show()"
   ]
  },
  {
   "cell_type": "code",
   "execution_count": null,
   "metadata": {
    "ExecuteTime": {
     "end_time": "2020-10-29T16:14:31.203330Z",
     "start_time": "2020-10-29T16:14:30.450794Z"
    }
   },
   "outputs": [],
   "source": [
    "# If you would prefer stacked bars, you can use the stacked parameter, \n",
    "# setting it to true\n",
    "\n",
    "df.plot(kind = 'bar', stacked = True)\n",
    "plt.show()"
   ]
  },
  {
   "cell_type": "code",
   "execution_count": null,
   "metadata": {
    "ExecuteTime": {
     "end_time": "2020-10-29T16:17:17.466390Z",
     "start_time": "2020-10-29T16:17:16.838824Z"
    }
   },
   "outputs": [],
   "source": [
    "x = [5,8,10]\n",
    "y = [12,16,6]\n",
    "\n",
    "x2 = [6,9,11]\n",
    "y2 = [6,15,7]\n",
    "\n",
    "\n",
    "# plt.bar(x, y, align='center')\n",
    "\n",
    "# plt.bar(x2, y2, color='g', align='center')\n",
    "\n",
    "plt.bar(x, y)\n",
    "\n",
    "plt.bar(x2, y2, color='g')\n",
    "\n",
    "plt.title('Bar chart')\n",
    "plt.ylabel('Y axis')\n",
    "plt.xlabel('X axis');"
   ]
  },
  {
   "cell_type": "code",
   "execution_count": null,
   "metadata": {
    "ExecuteTime": {
     "end_time": "2020-08-06T15:17:37.264340Z",
     "start_time": "2020-08-06T15:17:36.653847Z"
    }
   },
   "outputs": [],
   "source": [
    "# Stacked bar The optional bottom parameter of the pyplot.bar() function allows you to specify \n",
    "# a starting value for a bar. Instead of running from zero to a value, \n",
    "N = 5\n",
    "menMeans = (20, 35, 30, 35, 27)\n",
    "womenMeans = (25, 32, 34, 20, 25)\n",
    "menStd = (2, 3, 4, 1, 2)\n",
    "womenStd = (3, 5, 2, 3, 3)\n",
    "ind = np.arange(N)    # the x locations for the groups\n",
    "width = 0.35       # the width of the bars: can also be len(x) sequence\n",
    "\n",
    "p1 = plt.bar(ind, menMeans, width)\n",
    "p2 = plt.bar(ind, womenMeans, width,bottom=menMeans)\n",
    "#p1 = plt.bar(ind, menMeans)\n",
    "#p2 = plt.bar(ind, womenMeans, bottom=menMeans)\n",
    "plt.ylabel('Scores')\n",
    "plt.title('Scores by group and gender')\n",
    "plt.xticks(ind, ('G1', 'G2', 'G3', 'G4', 'G5'))\n",
    "plt.yticks(np.arange(0, 81, 10))\n",
    "plt.legend((p1[0], p2[0]), ('Men', 'Women'));"
   ]
  },
  {
   "cell_type": "markdown",
   "metadata": {},
   "source": [
    "#### Bar Plots with Averages\n",
    "Let's look at another sample dataset included with Seaborn, called tips. The dataset contains information about the sex, time of day, total bill, and tip amount for customers visiting a restaurant over a week."
   ]
  },
  {
   "cell_type": "code",
   "execution_count": null,
   "metadata": {},
   "outputs": [],
   "source": [
    "df_tips = sns.load_dataset(\"tips\");"
   ]
  },
  {
   "cell_type": "code",
   "execution_count": null,
   "metadata": {},
   "outputs": [],
   "source": [
    "df_tips.head()"
   ]
  },
  {
   "cell_type": "markdown",
   "metadata": {},
   "source": [
    "We might want to draw a bar chart to visualize how the average bill amount varies across different days of the week. One way to do this would be to compute the day-wise averages and then use plt.bar \n",
    "\n",
    "(try it as an exercise).\n",
    "\n",
    "However, since this is a very common use case, the Seaborn library provides a barplot function which can automatically compute averages."
   ]
  },
  {
   "cell_type": "code",
   "execution_count": null,
   "metadata": {},
   "outputs": [],
   "source": [
    "av= df_tips.groupby('day')['total_bill'].mean()"
   ]
  },
  {
   "cell_type": "code",
   "execution_count": null,
   "metadata": {},
   "outputs": [],
   "source": [
    "plt.bar(df_tips.day.unique(),av);"
   ]
  },
  {
   "cell_type": "code",
   "execution_count": null,
   "metadata": {},
   "outputs": [],
   "source": [
    "sns.barplot(x='day', y='total_bill', data=df_tips);"
   ]
  },
  {
   "cell_type": "markdown",
   "metadata": {},
   "source": [
    "The lines cutting each bar represent the amount of variation in the values. For instance, it seems like the variation in the total bill is relatively high on Fridays and low on Saturday.\n",
    "\n",
    "We can also specify a hue argument to compare bar plots side-by-side based on a third feature, e.g., sex."
   ]
  },
  {
   "cell_type": "code",
   "execution_count": null,
   "metadata": {
    "scrolled": true
   },
   "outputs": [],
   "source": [
    "sns.barplot(x='day', y='total_bill', hue='sex', data=df_tips);"
   ]
  },
  {
   "cell_type": "markdown",
   "metadata": {},
   "source": [
    "You can make the bars horizontal simply by switching the axes."
   ]
  },
  {
   "cell_type": "markdown",
   "metadata": {},
   "source": [
    "#### Scatter Plot\n",
    "\n",
    "In a scatter plot, the values of 2 variables are plotted as points on a 2-dimensional grid. Additionally, you can also use a third variable to determine the size or color of the points. Let's try out an example."
   ]
  },
  {
   "cell_type": "code",
   "execution_count": null,
   "metadata": {
    "ExecuteTime": {
     "end_time": "2020-10-29T16:19:56.628092Z",
     "start_time": "2020-10-29T16:19:56.241596Z"
    }
   },
   "outputs": [],
   "source": [
    "# Simple scatter plot\n",
    "\n",
    "study_time = np.array([145, 170, 165, 184, 175, 159, 180, 172])\n",
    "score = np.array([80, 92, 89, 90, 95, 75, 96, 85])\n",
    "plt.scatter(study_time, score) \n",
    "plt.title(\"Study Time Vs Score\")\n",
    "plt.xlabel(\"Study Time\")\n",
    "plt.ylabel(\"Score\")\n",
    "plt.grid()"
   ]
  },
  {
   "cell_type": "code",
   "execution_count": null,
   "metadata": {
    "ExecuteTime": {
     "end_time": "2020-10-29T16:20:30.031554Z",
     "start_time": "2020-10-29T16:20:29.090847Z"
    }
   },
   "outputs": [],
   "source": [
    "x = np.random.randint(low=1, high=11, size=50)\n",
    "y = x + np.random.randint(1, 10, size=x.size)\n",
    "# scatter plot detials\n",
    "plt.scatter(x=x, y=y, marker='o', c='r', edgecolor='green')\n",
    "#plt.title('Scatter: x versus y')\n",
    "plt.title('Scatter: $x$ versus $y$')\n",
    "# plt.xlabel('x')\n",
    "# plt.ylabel('y^2')\n",
    "\n",
    "plt.xlabel('$x$')\n",
    "plt.ylabel('$y^2$')\n",
    "\n"
   ]
  },
  {
   "cell_type": "markdown",
   "metadata": {},
   "source": [
    "Let's try to visualize the relationship between sepal length and sepal width. Our first instinct might be to create a line chart using plt.plot."
   ]
  },
  {
   "cell_type": "code",
   "execution_count": null,
   "metadata": {},
   "outputs": [],
   "source": [
    "# Load data into a Pandas dataframe\n",
    "df = sns.load_dataset(\"iris\")"
   ]
  },
  {
   "cell_type": "code",
   "execution_count": null,
   "metadata": {},
   "outputs": [],
   "source": [
    "plt.plot(df.sepal_length, df.sepal_width);"
   ]
  },
  {
   "cell_type": "markdown",
   "metadata": {},
   "source": [
    "The output is not very informative as there are too many combinations of the two properties within the dataset. There doesn't seem to be simple relationship between them.\n",
    "\n",
    "We can use a scatter plot to visualize how sepal length & sepal width vary using the scatterplot function from the seaborn module (imported as sns)."
   ]
  },
  {
   "cell_type": "code",
   "execution_count": null,
   "metadata": {},
   "outputs": [],
   "source": [
    "sns.scatterplot(x=df.sepal_length, y=df.sepal_width);\n"
   ]
  },
  {
   "cell_type": "markdown",
   "metadata": {},
   "source": [
    "#### Adding Hues\n",
    "Notice how the points in the above plot seem to form distinct clusters with some outliers. We can color the dots using the flower species as a hue. We can also make the points larger using the s argument."
   ]
  },
  {
   "cell_type": "code",
   "execution_count": null,
   "metadata": {},
   "outputs": [],
   "source": [
    "sns.scatterplot(x=df.sepal_length, y=df.sepal_width, hue=df.species);\n",
    "#sns.scatterplot(x=flowers_df.sepal_length, y=flowers_df.sepal_width, hue=flowers_df.species, s=100);\n"
   ]
  },
  {
   "cell_type": "markdown",
   "metadata": {},
   "source": [
    "Adding hues makes the plot more informative. We can immediately tell that Setosa flowers have a smaller sepal length but higher sepal widths. In contrast, the opposite is true for Virginica flowers."
   ]
  },
  {
   "cell_type": "markdown",
   "metadata": {},
   "source": [
    "#### Plotting using Pandas Data Frames\n",
    "Seaborn has in-built support for Pandas data frames. Instead of passing each column as a series, you can provide column names and use the data argument to specify a data frame."
   ]
  },
  {
   "cell_type": "code",
   "execution_count": null,
   "metadata": {},
   "outputs": [],
   "source": [
    "plt.title('Petal Dimensions')\n",
    "sns.scatterplot(x='petal_length', \n",
    "                y='petal_width', \n",
    "                hue='species',\n",
    "                data=df);"
   ]
  },
  {
   "cell_type": "markdown",
   "metadata": {},
   "source": [
    "#### Pair Plot"
   ]
  },
  {
   "cell_type": "code",
   "execution_count": null,
   "metadata": {},
   "outputs": [],
   "source": [
    "df.head()"
   ]
  },
  {
   "cell_type": "code",
   "execution_count": null,
   "metadata": {
    "ExecuteTime": {
     "end_time": "2020-10-29T16:23:13.131979Z",
     "start_time": "2020-10-29T16:23:10.287594Z"
    }
   },
   "outputs": [],
   "source": [
    "from pandas.plotting import scatter_matrix\n",
    "#print(df)\n",
    "scatter_matrix(df, figsize = (6,6),diagonal = 'kde');\n",
    "#plt.show()"
   ]
  },
  {
   "cell_type": "markdown",
   "metadata": {},
   "source": [
    "#### Pair plots with Seaborn\n",
    "Seaborn also provides a helper function sns.pairplot to automatically plot several different charts for pairs of features within a dataframe."
   ]
  },
  {
   "cell_type": "code",
   "execution_count": null,
   "metadata": {},
   "outputs": [],
   "source": [
    "df.head()"
   ]
  },
  {
   "cell_type": "code",
   "execution_count": null,
   "metadata": {},
   "outputs": [],
   "source": [
    "sns.pairplot(df, hue='species');"
   ]
  },
  {
   "cell_type": "markdown",
   "metadata": {},
   "source": [
    "##### Pie Chart"
   ]
  },
  {
   "cell_type": "code",
   "execution_count": null,
   "metadata": {
    "ExecuteTime": {
     "end_time": "2020-10-29T16:29:33.746187Z",
     "start_time": "2020-10-29T16:29:33.223604Z"
    }
   },
   "outputs": [],
   "source": [
    "\"\"\"\n",
    "Example of a pie chart. The number of catergories is given in companies and the angle for \n",
    "each category is given in market_share\n",
    ".\n",
    "\"\"\"\n",
    "companies = [\"A\", \"B\", \"C\", \"D\", \"E\"]\n",
    "market_share = [15, 20, 25, 10, 30]\n",
    "Explode = [0, 0.3, 0, 0.1, 0]\n",
    "plt.pie(market_share, explode = Explode, labels=companies, shadow = True, startangle=45)\n",
    "#plt.pie(market_share,labels=companies, shadow = True)\n",
    "plt.axis('equal'); # adjustes the size of the pie"
   ]
  },
  {
   "cell_type": "code",
   "execution_count": null,
   "metadata": {
    "ExecuteTime": {
     "end_time": "2020-10-29T16:30:07.449667Z",
     "start_time": "2020-10-29T16:30:07.293208Z"
    }
   },
   "outputs": [],
   "source": [
    "##Explode breaks a pie piece. In this example we are breaking catergory \"B\" of the pie\n",
    "\n",
    "companies = [\"A\", \"B\", \"C\", \"D\", \"E\"]\n",
    "market_share = [15, 20, 25, 10, 30]\n",
    "Explode = [0.3, 0, 0, 0, 0]\n",
    "plt.pie(market_share, explode = Explode, labels=companies)\n",
    "plt.axis('equal') # adjustes the size of the pie\n",
    "plt.show()"
   ]
  },
  {
   "cell_type": "code",
   "execution_count": null,
   "metadata": {},
   "outputs": [],
   "source": []
  },
  {
   "cell_type": "markdown",
   "metadata": {},
   "source": [
    "#### Box plot"
   ]
  },
  {
   "cell_type": "code",
   "execution_count": null,
   "metadata": {
    "ExecuteTime": {
     "end_time": "2020-10-29T16:30:55.949215Z",
     "start_time": "2020-10-29T16:30:55.645791Z"
    }
   },
   "outputs": [],
   "source": [
    "np.random.seed(10)\n",
    "x1 = np.random.normal(90, 20, 200)\n",
    "plt.boxplot(x1);"
   ]
  },
  {
   "cell_type": "code",
   "execution_count": null,
   "metadata": {
    "ExecuteTime": {
     "end_time": "2020-10-29T16:32:16.159479Z",
     "start_time": "2020-10-29T16:32:15.740091Z"
    }
   },
   "outputs": [],
   "source": [
    "# If the data being plotted consists of multiple columns\n",
    "df = pd.DataFrame(np.random.randn(10,4))\n",
    "df.boxplot();\n",
    "#plt.show()"
   ]
  },
  {
   "cell_type": "markdown",
   "metadata": {},
   "source": [
    "#### 3D plot"
   ]
  },
  {
   "cell_type": "code",
   "execution_count": null,
   "metadata": {
    "ExecuteTime": {
     "end_time": "2020-06-02T20:13:33.264344Z",
     "start_time": "2020-06-02T20:13:32.483909Z"
    }
   },
   "outputs": [],
   "source": [
    "from mpl_toolkits import mplot3d\n",
    "import numpy as np\n",
    "import matplotlib.pyplot as plt\n",
    "fig = plt.figure()\n",
    "ax = plt.axes(projection='3d')\n",
    "z = np.linspace(0, 1, 100)\n",
    "x = z * np.sin(20 * z)\n",
    "y = z * np.cos(20 * z)\n",
    "ax.plot3D(x, y, z, 'gray')\n",
    "ax.set_title('3D line plot')"
   ]
  },
  {
   "cell_type": "code",
   "execution_count": null,
   "metadata": {},
   "outputs": [],
   "source": [
    "#\n",
    "# RESTART THE NOTEBOOK: the matplotlib backend can only be selected before pylab is imported!\n",
    "# (e.g. Kernel > Restart)\n",
    "# \n",
    "import matplotlib\n",
    "#matplotlib.use('Qt4Agg') # or for example MacOSX\n",
    "import matplotlib.pylab as plt\n",
    "import numpy as np\n",
    "%matplotlib notebook"
   ]
  },
  {
   "cell_type": "code",
   "execution_count": null,
   "metadata": {},
   "outputs": [],
   "source": [
    "# Now, open an interactive plot window with the Qt4Agg backend\n",
    "fig, ax = plt.subplots()\n",
    "t = np.linspace(0, 10, 100)\n",
    "ax.plot(t, np.cos(t) * np.sin(t))\n",
    "plt.show()"
   ]
  },
  {
   "cell_type": "markdown",
   "metadata": {},
   "source": [
    "#### Reference\n",
    "\n",
    "- https://matplotlib.org/3.1.1/tutorials/introductory/pyplot.html\n",
    "\n",
    "- http://www.matplotlib.org - The project web page for matplotlib.- \n",
    "- https://github.com/matplotlib/matplotlib - The source code for matplotlib.\n",
    "- http://matplotlib.org/gallery.html - A large gallery showcaseing various types of plots matplotlib can create. Highly recommended!\n",
    "- http://scipy-lectures.github.io/matplotlib/matplotlib.html - Another good matplotlib reference.\n",
    "\n",
    " https://seaborn.pydata.org/examples/index.html\n",
    " "
   ]
  },
  {
   "cell_type": "code",
   "execution_count": null,
   "metadata": {},
   "outputs": [],
   "source": []
  }
 ],
 "metadata": {
  "kernelspec": {
   "display_name": "Python 3 (ipykernel)",
   "language": "python",
   "name": "python3"
  },
  "language_info": {
   "codemirror_mode": {
    "name": "ipython",
    "version": 3
   },
   "file_extension": ".py",
   "mimetype": "text/x-python",
   "name": "python",
   "nbconvert_exporter": "python",
   "pygments_lexer": "ipython3",
   "version": "3.9.7"
  },
  "varInspector": {
   "cols": {
    "lenName": 16,
    "lenType": 16,
    "lenVar": 40
   },
   "kernels_config": {
    "python": {
     "delete_cmd_postfix": "",
     "delete_cmd_prefix": "del ",
     "library": "var_list.py",
     "varRefreshCmd": "print(var_dic_list())"
    },
    "r": {
     "delete_cmd_postfix": ") ",
     "delete_cmd_prefix": "rm(",
     "library": "var_list.r",
     "varRefreshCmd": "cat(var_dic_list()) "
    }
   },
   "types_to_exclude": [
    "module",
    "function",
    "builtin_function_or_method",
    "instance",
    "_Feature"
   ],
   "window_display": false
  }
 },
 "nbformat": 4,
 "nbformat_minor": 2
}
