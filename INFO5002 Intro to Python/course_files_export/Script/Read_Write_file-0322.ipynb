{
 "cells": [
  {
   "cell_type": "markdown",
   "metadata": {},
   "source": [
    "## Reading and Writing Files in Python\n",
    "\n",
    "### Overview\n",
    "\n",
    "One of the most common tasks that you can do with Python is reading and writing files. Whether it’s writing to a simple text file, reading a complicated server log, or even analyzing raw byte data, all of these situations require reading or writing a file.\n",
    "\n",
    "#### In this notebook, you’ll learn:\n",
    "\n",
    "- The basics of reading and writing files in Python\n",
    "- Some basic scenarios of reading and writing files\n",
    "\n",
    "#### Files\n",
    "\n",
    "Files are named locations on disk to store related information. They are used to permanently store data in a non-volatile memory (e.g. hard disk).\n",
    "\n",
    "Since Random Access Memory (RAM) is volatile (which loses its data when the computer is turned off), we use files for future use of the data by permanently storing them.\n",
    "\n",
    "When we want to read from or write to a file, we need to open it first. When we are done, it needs to be closed so that the resources that are tied with the file are freed.\n",
    "\n",
    "Hence, in Python, a file operation takes place in the following order:\n",
    "\n",
    "1. Open a file\n",
    "2. Read or write (perform operation)\n",
    "3. Close the file\n",
    "\n",
    "#### File Types\n",
    "\n",
    "What you may know as a file is slightly different in Python. \n",
    "\n",
    "In Windows, for example, a file can be any item manipulated, edited or created by the user/OS. That means files can be images, text documents, executables, and much more. Most files are organized by keeping them in individual folders. \n",
    "\n",
    "\n",
    " \n",
    "In Python, a file is categorized as either **text** or **binary**, and the difference between the two file types is important. \n",
    "\n",
    "**Text files** are structured as a sequence of lines, where each line includes a sequence of characters. This is what you know as code or syntax. \n",
    "\n",
    "Each line is terminated with a special character, called the EOL or End of Line character. There are several types, but the most common is the comma {,} or newline character. It ends the current line and tells the interpreter a new one has begun. \n",
    "\n",
    "A backslash character can also be used, and it tells the interpreter that the next character – following the slash – should be treated as a new line. This character is useful when you don’t want to start a new line in the text itself but in the code. \n",
    "\n",
    "A **binary file** is any type of file that is not a text file. Because of their nature, binary files can only be processed by an application that know or understand the file’s structure. In other words, they must be applications that can read and interpret binary.\n",
    "\n",
    "#### Reading/Writing a File in Python\n",
    "\n",
    "When you’re working with Python, you don’t need to import a library in order to read and write files. It’s handled natively in the language, albeit in a unique manner.\n",
    "\n",
    "The first thing you’ll need to do is use Python’s built-in **open** function to get a **file object**.\n",
    "\n",
    "The **open** function opens a file. It’s simple.\n",
    "\n",
    "When you use the **open** function, it returns something called a **file object**. **File objects** contain methods and attributes that can be used to collect information about the file you opened. They can also be used to manipulate said file.\n",
    "\n",
    "For example, the **mode** attribute of a **file object** tells you which mode a file was opened in. And the **name** attribute tells you the name of the file that the **file object** has opened.\n"
   ]
  },
  {
   "cell_type": "markdown",
   "metadata": {},
   "source": [
    "\n",
    "#### Open ( ) Function\n",
    "\n",
    "In order to open a file for writing or use in Python, you must rely on the built-in **open ()** function. \n",
    "\n",
    "As explained above, **open ()** will return a file object, so it is most commonly used with two arguments.   \n",
    "\n",
    "The syntax to open a file object in Python is: \n",
    "\n",
    "`file_object  = open(“filename”, “mode”)` where file_object is the variable to add the file object.\n",
    "\n",
    "The second argument you see – **mode** – tells the interpreter and developer which way the file will be used.\n",
    "\n",
    "|Mode|Description|\n",
    "|-----|----|\n",
    "|r|Opens a file for reading. (default)|\n",
    "|rb|Opens the file to read only in binary format. The file pointer exists at the beginning|\n",
    "|r+|It opens the file to read and write both. The file pointer exists at the beginning.|\n",
    "|rb+|It opens the file to read and write both in binary format. The file pointer exists at the beginning of the file.|\n",
    "|w|Opens a file for writing. Creates a new file if it does not exist or truncates the file if it exists.|\n",
    "|wb|It opens the file to write only in binary format. It overwrites the file if it exists previously or creates a new one if no file exists.|\n",
    "|w+|It opens the file to write and read data. It will override existing data.|\n",
    "|wb+|It opens the file to write and read both in binary format|\n",
    "|x|\tOpens a file for exclusive creation. If the file already exists, the operation fails.|\n",
    "|a|\tOpens a file for appending at the end of the file without truncating it. Creates a new file if it does not exist.|\n",
    "|t|Opens in text mode. (default)|\n",
    "|b|Opens in binary mode.|\n",
    "|+|Opens a file for updating (reading and writing)|\n",
    "\n",
    "\n",
    "So, let’s take a look at a quick example. \n",
    "\n",
    "$f = open(“workfile”,”w”)$ \n",
    "$print (f)$ \n",
    "\n",
    "This snippet opens the file named “workfile” in writing mode so that we can make changes to it. The current information stored within the file is also displayed – or printed – for us to view. \n",
    "\n",
    "Once this has been done, you can move on to call the objects functions. The two most common functions are read and write.\n",
    "\n",
    "Let us consider an example create a txt file. "
   ]
  },
  {
   "cell_type": "code",
   "execution_count": null,
   "metadata": {},
   "outputs": [],
   "source": [
    "file = open(\"testfile.txt\",\"w\") \n",
    " \n",
    "file.write(\"Hello World \\n\")\n",
    "\n",
    "file.write(\"This is our new text file\\n\")\n",
    "\n",
    "file.write(\"and this is another line.\\n\")\n",
    "\n",
    "file.write(\"Why? Because we can.\\n\") \n",
    " \n",
    "file.close() "
   ]
  },
  {
   "cell_type": "code",
   "execution_count": null,
   "metadata": {},
   "outputs": [],
   "source": [
    "!ls -lh testfile.txt"
   ]
  },
  {
   "cell_type": "code",
   "execution_count": null,
   "metadata": {},
   "outputs": [],
   "source": [
    "! cat testfile.txt"
   ]
  },
  {
   "cell_type": "markdown",
   "metadata": {},
   "source": [
    "## Reading a Text File in Python\n",
    "\n",
    "\n",
    "Once you’ve opened up a file, you’ll want to read or write to the file. First off, let’s cover reading a file. There are multiple methods that can be called on a file object to help you out:\n",
    "\n",
    "\n",
    "There are actually a number of ways to read a text file in Python, not just one. \n",
    "\n",
    "If you need to extract a string that contains all characters in the file, you can use the following method: \n",
    "\n",
    "$file.read()$\n",
    "\n",
    "The full code to work with this method will look something like this: \n",
    "\n"
   ]
  },
  {
   "cell_type": "code",
   "execution_count": 4,
   "metadata": {},
   "outputs": [
    {
     "name": "stdout",
     "output_type": "stream",
     "text": [
      "Hello World \n",
      "This is our new text file\n",
      "and this is another line.\n",
      "Why? Because we can.\n",
      "\n"
     ]
    }
   ],
   "source": [
    "fp = open(\"testfile.txt\", \"r\") \n",
    "print(fp.read()) \n",
    "fp.close;"
   ]
  },
  {
   "cell_type": "markdown",
   "metadata": {},
   "source": [
    "The output of that command will display all the text inside the file\n",
    "\n",
    "Another way to read a file is to call a certain number of characters.  \n",
    "\n",
    "For example, with the following code the interpreter will read the first five characters of stored data and return it as a string: \n"
   ]
  },
  {
   "cell_type": "code",
   "execution_count": 8,
   "metadata": {},
   "outputs": [
    {
     "name": "stdout",
     "output_type": "stream",
     "text": [
      "Hello\n"
     ]
    }
   ],
   "source": [
    "file = open(\"testfile.txt\", \"r\")\n",
    " \n",
    "print(file.read(5)) "
   ]
  },
  {
   "cell_type": "markdown",
   "metadata": {},
   "source": [
    "#### File Methods\n",
    "Python has various method available:\n",
    "\n",
    "|Method|Description|\n",
    "|-----|-----|\n",
    "|read()|Returns the file content.|\n",
    "|readline()|\tRead single line|\n",
    "|readlines()|\tRead file into a list|\n",
    "|truncate(size)|\tResizes the file to a specified size.|\n",
    "|write()|Writes the specified string to the file.|\n",
    "|writelines()|Writes a list of strings to the file.|\n",
    "|close()|Closes the opened file.|\n",
    "|seek()|Set file pointer position in a file|\n",
    "|tell()|Returns the current file location.|\n",
    "|fileno()|Returns a number that represents the stream, from the operating system's perspective.|\n",
    "|flush()|Flushes the internal buffer.|"
   ]
  },
  {
   "cell_type": "markdown",
   "metadata": {},
   "source": [
    "If you want to read a file line by line – as opposed to pulling the content of the entire file at once – then you use the `*readline()*` function. \n",
    "\n",
    "Why would you use something like this? \n",
    "\n",
    "Let’s say you only want to see the first line of the file – or the third. You would execute the `*readline()*` function as many times as possible to get the data you were looking for. \n",
    "\n",
    "Each time you run the method, it will return a string of characters that contains a single line of information from the file. "
   ]
  },
  {
   "cell_type": "code",
   "execution_count": null,
   "metadata": {},
   "outputs": [],
   "source": [
    "file = open(\"testfile.txt\", \"r\") \n",
    "print(file.readline()) "
   ]
  },
  {
   "cell_type": "markdown",
   "metadata": {},
   "source": [
    "If we wanted to return only the third line in the file, we would use this: "
   ]
  },
  {
   "cell_type": "code",
   "execution_count": null,
   "metadata": {},
   "outputs": [],
   "source": [
    "## CHECK IT \n",
    "file = open(\"testfile.txt\", \"r\") \n",
    "print(file.readline(3))"
   ]
  },
  {
   "cell_type": "markdown",
   "metadata": {},
   "source": [
    "But what if we wanted to return every line in the file, properly separated? You would use the same function, only in a new form. This is called the file.readlines() function. "
   ]
  },
  {
   "cell_type": "code",
   "execution_count": null,
   "metadata": {},
   "outputs": [],
   "source": [
    "file = open(\"testfile.txt\", \"r\") \n",
    "print(file.readlines())"
   ]
  },
  {
   "cell_type": "markdown",
   "metadata": {},
   "source": [
    "Notice how each line is separated accordingly? Note that this is not the ideal way to show users the content in a file. But it’s great when you want to collect information quickly for personal use during development or recall.\n",
    "\n",
    "## Looping over a file object\n",
    "\n",
    "When you want to read – or return – all the lines from a file in a more memory efficient, and fast manner, you can use the loop over method. The advantage to using this method is that the related code is both simple and easy to read. \n"
   ]
  },
  {
   "cell_type": "code",
   "execution_count": null,
   "metadata": {},
   "outputs": [],
   "source": [
    "file = open(\"testfile.txt\", \"r\") \n",
    "for line in file: \n",
    "    print(line) "
   ]
  },
  {
   "cell_type": "markdown",
   "metadata": {},
   "source": [
    "## With Statement\n",
    "\n",
    "You can also work with file objects using the `*with*` statement. It is designed to provide much cleaner syntax and exceptions handling when you are working with code. That explains why it’s good practice to use the `with` statement where applicable. \n",
    "\n",
    "One bonus of using this method is that any files opened will be closed automatically after you are done. This leaves less to worry about during cleanup. \n",
    "\n",
    "To use the with statement to open a file:\n",
    "\n",
    "with open(“filename”) as file: \n",
    " "
   ]
  },
  {
   "cell_type": "code",
   "execution_count": null,
   "metadata": {},
   "outputs": [],
   "source": [
    "with open(\"testfile.txt\") as test_file:  \n",
    "    data = test_file.read() \n",
    "   # do something with data "
   ]
  },
  {
   "cell_type": "markdown",
   "metadata": {},
   "source": [
    "You can also call upon other methods while using this statement. For instance, you can do something like loop over a file object:"
   ]
  },
  {
   "cell_type": "markdown",
   "metadata": {},
   "source": [
    "You’ll also notice that in the above example we didn’t use the “file.close()” method because the with statement will automatically call that for us upon execution. It really makes things a lot easier, doesn’t it?"
   ]
  },
  {
   "cell_type": "markdown",
   "metadata": {},
   "source": [
    "## Splitting Lines in a Text File\n",
    "\n",
    "As a final example, let’s explore a unique function that allows you to split the lines taken from a text file. What this is designed to do, is split the string contained in variable data whenever the interpreter encounters a space character.\n",
    "\n",
    "But just because we are going to use it to split lines after a space character, doesn’t mean that’s the only way. You can actually split your text using any character you wish - such as a colon, for instance.\n",
    "\n",
    "The code to do this (also using a with statement) is:"
   ]
  },
  {
   "cell_type": "code",
   "execution_count": null,
   "metadata": {},
   "outputs": [],
   "source": [
    "with open(\"testfile.txt\", \"r\") as f:\n",
    "    data = f.readlines()\n",
    "for line in data:\n",
    "    words = line.split()\n",
    "    print(words)"
   ]
  },
  {
   "cell_type": "markdown",
   "metadata": {},
   "source": [
    "## Using the File Write Method\n",
    "\n",
    "One thing you’ll notice about the file write method is that it only requires a single parameter, which is the string you want to be written. \n",
    "\n",
    "This method is used to add information or content to an existing file. To start a new line after you write data to the file, you can add an EOL character."
   ]
  },
  {
   "cell_type": "code",
   "execution_count": null,
   "metadata": {},
   "outputs": [],
   "source": [
    "file = open(\"testfile.txt\", \"a\")\n",
    "\n",
    "file.write(\"This is a test \\n\") \n",
    "file.write(\"To add more lines \\n\")\n",
    "\n",
    "file.close()"
   ]
  },
  {
   "cell_type": "code",
   "execution_count": null,
   "metadata": {},
   "outputs": [],
   "source": [
    "! cat testfile.txt"
   ]
  },
  {
   "cell_type": "markdown",
   "metadata": {},
   "source": [
    "## Closing a File\n",
    "\n",
    "After you open a file, the next thing to learn is how to close it.\n",
    "\n",
    "**Warning**: You should always make sure that an open file is properly closed.\n",
    "\n",
    "It’s important to remember that it’s your responsibility to close the file. In most cases, upon termination of an application or script, a file will be closed eventually. However, there is no guarantee when exactly that will happen. This can lead to unwanted behavior including resource leaks. It’s also a best practice within Python (Pythonic) to make sure that your code behaves in a way that is well defined and reduces any unwanted behavior.\n"
   ]
  },
  {
   "cell_type": "markdown",
   "metadata": {},
   "source": [
    "When you’re manipulating a file, there are two ways that you can use to ensure that a file is closed properly, even when encountering an error. The first way to close a file is to use the try-finally block:"
   ]
  },
  {
   "cell_type": "code",
   "execution_count": null,
   "metadata": {},
   "outputs": [],
   "source": [
    "f = open(\"test.txt\")\n",
    "# perform file operations\n",
    "f.close()"
   ]
  },
  {
   "cell_type": "markdown",
   "metadata": {},
   "source": [
    "This method is not entirely safe. If an exception occurs when we are performing some operation with the file, the code exits without closing the file.\n",
    "\n",
    "A safer way is to use a ***try...finally*** block.\n",
    "\n"
   ]
  },
  {
   "cell_type": "code",
   "execution_count": null,
   "metadata": {},
   "outputs": [],
   "source": [
    "f = open('test.txt')\n",
    "try:\n",
    "    # Further file processing goes here\n",
    "finally:\n",
    "    f.close()"
   ]
  },
  {
   "cell_type": "markdown",
   "metadata": {},
   "source": [
    "This way, we are guaranteeing that the file is properly closed even if an exception is raised that causes program flow to stop.\n",
    "\n",
    "The best way to close a file is by using the with statement. This ensures that the file is closed when the block inside the with statement is exited.\n",
    "\n",
    "We don't need to explicitly call the close() method. It is done internally."
   ]
  },
  {
   "cell_type": "code",
   "execution_count": null,
   "metadata": {},
   "outputs": [],
   "source": [
    "with open('test.txt') as f:\n",
    "    # Further file processing goes here"
   ]
  },
  {
   "cell_type": "markdown",
   "metadata": {},
   "source": [
    "The with statement automatically takes care of closing the file once it leaves the with block, even in cases of error. I highly recommend that you use the with statement as much as possible, as it allows for cleaner code and makes handling any unexpected errors easier for you."
   ]
  },
  {
   "cell_type": "markdown",
   "metadata": {},
   "source": [
    "When you’re done working, you can use the **fh.close()** command to end things. What this does is close the file completely, terminating resources in use, in turn freeing them up for the system to deploy elsewhere. \n",
    "\n",
    "It’s important to understand that when you use the **fh.close()** method, any further attempts to use the file object will fail. \n",
    "\n",
    "Notice how we have used this in several of our examples to end interaction with a file? This is good practice."
   ]
  },
  {
   "cell_type": "markdown",
   "metadata": {},
   "source": [
    "#### Methods in File Handling \n",
    "There are different methods are used which are as follows:\n",
    "\n",
    "`rename()` used to rename a file"
   ]
  },
  {
   "cell_type": "code",
   "execution_count": null,
   "metadata": {},
   "outputs": [],
   "source": [
    "import os\n",
    "\n",
    "os.rename(existing file_name, new file_name)\n",
    "\n",
    "## rename() used to rename a file\n",
    "os.rename(\"abc.txt\", \"xyz.txt\")\n",
    "\n",
    "# `remove()` used to delete a file\n",
    "os.remove(\"abc.txt\")\n",
    "\n",
    "# `chdir()` used to change the current directory\n",
    "os.chdir(\"new directory path\")\n",
    "\n",
    "# mkdir() used to create a directory\n",
    "\n",
    "os.mkdir(\" directory name\")\n",
    "\n",
    "# getcwd() used to show teh current working directory\n",
    "os.getcwd()\n",
    "\n"
   ]
  },
  {
   "cell_type": "code",
   "execution_count": null,
   "metadata": {},
   "outputs": [],
   "source": []
  }
 ],
 "metadata": {
  "kernelspec": {
   "display_name": "Python 3 (ipykernel)",
   "language": "python",
   "name": "python3"
  },
  "language_info": {
   "codemirror_mode": {
    "name": "ipython",
    "version": 3
   },
   "file_extension": ".py",
   "mimetype": "text/x-python",
   "name": "python",
   "nbconvert_exporter": "python",
   "pygments_lexer": "ipython3",
   "version": "3.9.7"
  }
 },
 "nbformat": 4,
 "nbformat_minor": 2
}
